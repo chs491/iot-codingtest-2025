{
 "cells": [
  {
   "cell_type": "markdown",
   "id": "4adb552a",
   "metadata": {},
   "source": [
    "## 배열\n",
    "\n",
    "### 배열 선언\n",
    "\n",
    "#### 일반적 배열 선언"
   ]
  },
  {
   "cell_type": "code",
   "execution_count": 51,
   "id": "55728342",
   "metadata": {},
   "outputs": [
    {
     "data": {
      "text/plain": [
       "[0, 0, 0, 0, 0]"
      ]
     },
     "execution_count": 51,
     "metadata": {},
     "output_type": "execute_result"
    }
   ],
   "source": [
    "arr1 = [0,0,0,0,0,]\n",
    "arr1"
   ]
  },
  {
   "cell_type": "code",
   "execution_count": 52,
   "id": "ae2dacc7",
   "metadata": {},
   "outputs": [
    {
     "data": {
      "text/plain": [
       "[0, 0, 0, 0, 0, 0]"
      ]
     },
     "execution_count": 52,
     "metadata": {},
     "output_type": "execute_result"
    }
   ],
   "source": [
    "arr2 = [0] * 6\n",
    "arr2"
   ]
  },
  {
   "cell_type": "markdown",
   "id": "06ae514c",
   "metadata": {},
   "source": [
    "#### 리스트 생성자 사용"
   ]
  },
  {
   "cell_type": "code",
   "execution_count": 53,
   "id": "18de57fa",
   "metadata": {},
   "outputs": [
    {
     "data": {
      "text/plain": [
       "[0, 1, 2, 3, 4, 5]"
      ]
     },
     "execution_count": 53,
     "metadata": {},
     "output_type": "execute_result"
    }
   ],
   "source": [
    "arr3 = list(range(6))\n",
    "arr3"
   ]
  },
  {
   "cell_type": "markdown",
   "id": "b898666f",
   "metadata": {},
   "source": [
    "#### 리스트 컴프리헨션 "
   ]
  },
  {
   "cell_type": "code",
   "execution_count": 54,
   "id": "928f4744",
   "metadata": {},
   "outputs": [
    {
     "data": {
      "text/plain": [
       "[0, 1, 2, 3, 4, 5]"
      ]
     },
     "execution_count": 54,
     "metadata": {},
     "output_type": "execute_result"
    }
   ],
   "source": [
    "arr4 = [x for x in range(6)]\n",
    "arr4"
   ]
  },
  {
   "cell_type": "code",
   "execution_count": 55,
   "id": "13e6913b",
   "metadata": {},
   "outputs": [
    {
     "data": {
      "text/plain": [
       "[0, 0, 0, 0, 0, 0]"
      ]
     },
     "execution_count": 55,
     "metadata": {},
     "output_type": "execute_result"
    }
   ],
   "source": [
    "# 어짜피 사용하지 않는 변수라면 _(사용하지 않는 변수)로 변경하라\n",
    "arr5 = [0 for _ in range(6)]\n",
    "arr5"
   ]
  },
  {
   "cell_type": "code",
   "execution_count": 56,
   "id": "b5c6c525",
   "metadata": {},
   "outputs": [
    {
     "data": {
      "text/plain": [
       "15"
      ]
     },
     "execution_count": 56,
     "metadata": {},
     "output_type": "execute_result"
    }
   ],
   "source": [
    "arr4[0] + arr4[1] + arr4[2] + arr4[3] + arr4[4] + arr4[5] "
   ]
  },
  {
   "cell_type": "markdown",
   "id": "4dd71055",
   "metadata": {},
   "source": [
    "### 2차원 배열"
   ]
  },
  {
   "cell_type": "code",
   "execution_count": 57,
   "id": "2f857c8d",
   "metadata": {},
   "outputs": [
    {
     "data": {
      "text/plain": [
       "[[1, 2, 3, 4], [5, 6, 7, 8], [9, 10, 11, 12]]"
      ]
     },
     "execution_count": 57,
     "metadata": {},
     "output_type": "execute_result"
    }
   ],
   "source": [
    "# 선언\n",
    "arr6 = [[1,2,3,4], [5,6,7,8],[9,10,11,12]]\n",
    "arr6"
   ]
  },
  {
   "cell_type": "code",
   "execution_count": 58,
   "id": "30c4d192",
   "metadata": {},
   "outputs": [
    {
     "data": {
      "text/plain": [
       "[1, 2, 3, 4]"
      ]
     },
     "execution_count": 58,
     "metadata": {},
     "output_type": "execute_result"
    }
   ],
   "source": [
    "arr6[0] # [1,2,3,4] 0번 행 값들 전부"
   ]
  },
  {
   "cell_type": "code",
   "execution_count": 59,
   "id": "7acbdac1",
   "metadata": {},
   "outputs": [
    {
     "data": {
      "text/plain": [
       "4"
      ]
     },
     "execution_count": 59,
     "metadata": {},
     "output_type": "execute_result"
    }
   ],
   "source": [
    "arr6[0][3] # 0행 3열 값을 표시하라"
   ]
  },
  {
   "cell_type": "code",
   "execution_count": 60,
   "id": "44210db9",
   "metadata": {},
   "outputs": [],
   "source": [
    "arr6[2][3] = 19"
   ]
  },
  {
   "cell_type": "code",
   "execution_count": 61,
   "id": "1cb86591",
   "metadata": {},
   "outputs": [
    {
     "data": {
      "text/plain": [
       "[[1, 2, 3, 4], [5, 6, 7, 8], [9, 10, 11, 19]]"
      ]
     },
     "execution_count": 61,
     "metadata": {},
     "output_type": "execute_result"
    }
   ],
   "source": [
    "arr6"
   ]
  },
  {
   "cell_type": "markdown",
   "id": "00ae9c05",
   "metadata": {},
   "source": [
    "#### 리스트 컴프리헨션"
   ]
  },
  {
   "cell_type": "code",
   "execution_count": 62,
   "id": "ed0e71ce",
   "metadata": {},
   "outputs": [
    {
     "data": {
      "text/plain": [
       "[[1, 2, 3, 4], [5, 6, 7, 8], [9, 10, 11, 12]]"
      ]
     },
     "execution_count": 62,
     "metadata": {},
     "output_type": "execute_result"
    }
   ],
   "source": [
    "arr7 = [[x for x in range(1 + y * 4, 5 + y * 4)] for y in range(3)]\n",
    "arr7"
   ]
  },
  {
   "cell_type": "markdown",
   "id": "5045a474",
   "metadata": {},
   "source": [
    "### 배열 시간 복잡도\n",
    "\n",
    "- 배열 요소에 접근하는 시간복잡도 : $O(1)$ . 소요 시간이 전혀 걸리지 않음\n",
    "- 배열에 맨 처음이나 중간에 삽입하는 시간복잡도 : $O(n)$\n",
    "- 배열에 맨 처음이나 중간에 삭제하는 시간복잡도 : $O(n)$\n",
    "\n",
    "#### 배열 선택시 고려점\n",
    "\n",
    "- 할당할 메모리 크기 확인. 1차원 배열 최대 1000만개, 2차원 배열 최대 3000 * 3000 (900만개)\n",
    "- 중간에 데이터 삽입 많으면 시간복잡도가 높아짐"
   ]
  },
  {
   "cell_type": "markdown",
   "id": "08925e41",
   "metadata": {},
   "source": [
    "### 자주 사용하는 리스트 문법\n",
    "\n",
    "#### append() 사용"
   ]
  },
  {
   "cell_type": "code",
   "execution_count": 63,
   "id": "8222b918",
   "metadata": {},
   "outputs": [],
   "source": [
    "my_list = [1,2,3]\n",
    "my_list.append(4)"
   ]
  },
  {
   "cell_type": "code",
   "execution_count": 64,
   "id": "209409c3",
   "metadata": {},
   "outputs": [
    {
     "data": {
      "text/plain": [
       "[1, 2, 3, 4]"
      ]
     },
     "execution_count": 64,
     "metadata": {},
     "output_type": "execute_result"
    }
   ],
   "source": [
    "my_list"
   ]
  },
  {
   "cell_type": "markdown",
   "id": "33232d7d",
   "metadata": {},
   "source": [
    "#### + 연산자 사용"
   ]
  },
  {
   "cell_type": "code",
   "execution_count": 65,
   "id": "ada2cdd2",
   "metadata": {},
   "outputs": [
    {
     "data": {
      "text/plain": [
       "[1, 2, 3, 4, 5, 6]"
      ]
     },
     "execution_count": 65,
     "metadata": {},
     "output_type": "execute_result"
    }
   ],
   "source": [
    "my_list = my_list + [5,6]\n",
    "my_list"
   ]
  },
  {
   "cell_type": "markdown",
   "id": "cea07f4c",
   "metadata": {},
   "source": [
    "#### insert() 연산자 사용"
   ]
  },
  {
   "cell_type": "code",
   "execution_count": 66,
   "id": "4bbc85eb",
   "metadata": {},
   "outputs": [
    {
     "data": {
      "text/plain": [
       "[1, 2, 3, 999, 4, 5, 6]"
      ]
     },
     "execution_count": 66,
     "metadata": {},
     "output_type": "execute_result"
    }
   ],
   "source": [
    "my_list.insert(3,999)\n",
    "my_list"
   ]
  },
  {
   "cell_type": "markdown",
   "id": "798fad2d",
   "metadata": {},
   "source": [
    "#### pop() 함수로 데이터 추출"
   ]
  },
  {
   "cell_type": "code",
   "execution_count": 67,
   "id": "9b6b0d1c",
   "metadata": {},
   "outputs": [
    {
     "data": {
      "text/plain": [
       "6"
      ]
     },
     "execution_count": 67,
     "metadata": {},
     "output_type": "execute_result"
    }
   ],
   "source": [
    "my_list.pop()"
   ]
  },
  {
   "cell_type": "code",
   "execution_count": 68,
   "id": "fd05df0a",
   "metadata": {},
   "outputs": [
    {
     "data": {
      "text/plain": [
       "[1, 2, 3, 999, 4, 5]"
      ]
     },
     "execution_count": 68,
     "metadata": {},
     "output_type": "execute_result"
    }
   ],
   "source": [
    "my_list"
   ]
  },
  {
   "cell_type": "code",
   "execution_count": 69,
   "id": "972ffc2f",
   "metadata": {},
   "outputs": [
    {
     "data": {
      "text/plain": [
       "999"
      ]
     },
     "execution_count": 69,
     "metadata": {},
     "output_type": "execute_result"
    }
   ],
   "source": [
    "my_list.pop(3)"
   ]
  },
  {
   "cell_type": "code",
   "execution_count": 70,
   "id": "e77bbfba",
   "metadata": {},
   "outputs": [
    {
     "data": {
      "text/plain": [
       "[1, 2, 3, 4, 5]"
      ]
     },
     "execution_count": 70,
     "metadata": {},
     "output_type": "execute_result"
    }
   ],
   "source": [
    "my_list"
   ]
  },
  {
   "cell_type": "markdown",
   "id": "3ce36a77",
   "metadata": {},
   "source": [
    "#### remove() 로 데이터 삭제. 값으로 삭제"
   ]
  },
  {
   "cell_type": "code",
   "execution_count": 71,
   "id": "b6f7b7b0",
   "metadata": {},
   "outputs": [],
   "source": [
    "my_list.remove(3) # 리스트에서 3을 삭제"
   ]
  },
  {
   "cell_type": "code",
   "execution_count": 72,
   "id": "411a626f",
   "metadata": {},
   "outputs": [
    {
     "data": {
      "text/plain": [
       "[1, 2, 4, 5]"
      ]
     },
     "execution_count": 72,
     "metadata": {},
     "output_type": "execute_result"
    }
   ],
   "source": [
    "my_list"
   ]
  },
  {
   "cell_type": "markdown",
   "id": "460602a0",
   "metadata": {},
   "source": [
    "#### 많이 사용하는 문법"
   ]
  },
  {
   "cell_type": "code",
   "execution_count": 73,
   "id": "e070854b",
   "metadata": {},
   "outputs": [],
   "source": [
    "fruits = ['apple', 'banana', 'cherry', 'apple', 'orange', 'banana', 'kiwi']"
   ]
  },
  {
   "cell_type": "code",
   "execution_count": 74,
   "id": "de79df34",
   "metadata": {},
   "outputs": [
    {
     "data": {
      "text/plain": [
       "7"
      ]
     },
     "execution_count": 74,
     "metadata": {},
     "output_type": "execute_result"
    }
   ],
   "source": [
    "len(fruits)"
   ]
  },
  {
   "cell_type": "code",
   "execution_count": 75,
   "id": "b4ad534d",
   "metadata": {},
   "outputs": [
    {
     "data": {
      "text/plain": [
       "1"
      ]
     },
     "execution_count": 75,
     "metadata": {},
     "output_type": "execute_result"
    }
   ],
   "source": [
    "fruits.index('banana')"
   ]
  },
  {
   "cell_type": "code",
   "execution_count": 76,
   "id": "34b6bfe8",
   "metadata": {},
   "outputs": [
    {
     "data": {
      "text/plain": [
       "5"
      ]
     },
     "execution_count": 76,
     "metadata": {},
     "output_type": "execute_result"
    }
   ],
   "source": [
    "fruits.index('banana', 2)"
   ]
  },
  {
   "cell_type": "code",
   "execution_count": 77,
   "id": "eb5434e1",
   "metadata": {},
   "outputs": [
    {
     "ename": "ValueError",
     "evalue": "'banana' is not in list",
     "output_type": "error",
     "traceback": [
      "\u001b[1;31m---------------------------------------------------------------------------\u001b[0m",
      "\u001b[1;31mValueError\u001b[0m                                Traceback (most recent call last)",
      "Cell \u001b[1;32mIn[77], line 1\u001b[0m\n\u001b[1;32m----> 1\u001b[0m \u001b[43mfruits\u001b[49m\u001b[38;5;241;43m.\u001b[39;49m\u001b[43mindex\u001b[49m\u001b[43m(\u001b[49m\u001b[38;5;124;43m'\u001b[39;49m\u001b[38;5;124;43mbanana\u001b[39;49m\u001b[38;5;124;43m'\u001b[39;49m\u001b[43m,\u001b[49m\u001b[43m \u001b[49m\u001b[38;5;241;43m6\u001b[39;49m\u001b[43m)\u001b[49m\n",
      "\u001b[1;31mValueError\u001b[0m: 'banana' is not in list"
     ]
    }
   ],
   "source": [
    "fruits.index('banana', 6)"
   ]
  },
  {
   "cell_type": "code",
   "execution_count": null,
   "id": "cc2b6b31",
   "metadata": {},
   "outputs": [],
   "source": [
    "fruits.sort()"
   ]
  },
  {
   "cell_type": "code",
   "execution_count": null,
   "id": "3346707f",
   "metadata": {},
   "outputs": [
    {
     "data": {
      "text/plain": [
       "['apple', 'apple', 'banana', 'banana', 'cherry', 'kiwi', 'orange']"
      ]
     },
     "execution_count": 36,
     "metadata": {},
     "output_type": "execute_result"
    }
   ],
   "source": [
    "fruits"
   ]
  },
  {
   "cell_type": "code",
   "execution_count": null,
   "id": "7f1ec797",
   "metadata": {},
   "outputs": [],
   "source": [
    "fruits.sort(reverse=True)"
   ]
  },
  {
   "cell_type": "code",
   "execution_count": null,
   "id": "f544dc3d",
   "metadata": {},
   "outputs": [
    {
     "data": {
      "text/plain": [
       "['orange', 'kiwi', 'cherry', 'banana', 'banana', 'apple', 'apple']"
      ]
     },
     "execution_count": 38,
     "metadata": {},
     "output_type": "execute_result"
    }
   ],
   "source": [
    "fruits"
   ]
  },
  {
   "cell_type": "code",
   "execution_count": null,
   "id": "f85650f2",
   "metadata": {},
   "outputs": [
    {
     "data": {
      "text/plain": [
       "1"
      ]
     },
     "execution_count": 39,
     "metadata": {},
     "output_type": "execute_result"
    }
   ],
   "source": [
    "fruits.count('orange')"
   ]
  },
  {
   "cell_type": "markdown",
   "id": "0ed7aa01",
   "metadata": {},
   "source": [
    "### 몸풀기 문제\n",
    "\n",
    "#### 배열 정리하기\n",
    "|입력|출력|\n",
    "|:--|:--|\n",
    "|[1,-5,2,4,3]|[-5,1,2,3,4]\n",
    "|[2,1,1,3,2,5,4]|...|"
   ]
  },
  {
   "cell_type": "code",
   "execution_count": null,
   "id": "a0e1e2be",
   "metadata": {},
   "outputs": [],
   "source": [
    "def solution(arr):\n",
    "    answer = []\n",
    "    return answer"
   ]
  },
  {
   "cell_type": "code",
   "execution_count": null,
   "id": "0c606bdf",
   "metadata": {},
   "outputs": [],
   "source": [
    "# 기본 정렬\n",
    "def solution(arr):\n",
    "    arr.sort()\n",
    "    return arr"
   ]
  },
  {
   "cell_type": "code",
   "execution_count": null,
   "id": "31c84550",
   "metadata": {},
   "outputs": [
    {
     "data": {
      "text/plain": [
       "[1, 1, 2, 2, 3, 4, 5]"
      ]
     },
     "execution_count": 43,
     "metadata": {},
     "output_type": "execute_result"
    }
   ],
   "source": [
    "# arr1 = [1,-5,2,4,3]\n",
    "arr1 = [2,1,1,3,2,5,4]\n",
    "\n",
    "solution(arr1)"
   ]
  },
  {
   "cell_type": "code",
   "execution_count": null,
   "id": "fc5bae82",
   "metadata": {},
   "outputs": [],
   "source": [
    "# 원본은 보존하면서 작업\n",
    "def solution(arr):\n",
    "    answer = sorted(arr, reverse=False)\n",
    "    return answer"
   ]
  },
  {
   "cell_type": "markdown",
   "id": "ac5d314e",
   "metadata": {},
   "source": [
    "#### sort() 함수 사용않고 정렬알고리즘 구현"
   ]
  },
  {
   "cell_type": "code",
   "execution_count": 79,
   "id": "5f597153",
   "metadata": {},
   "outputs": [],
   "source": [
    "import time \n",
    "\n",
    "def bubble_sort(arr): # 버블 소트\n",
    "    n = len(arr)\n",
    "\n",
    "    for i in range(n):\n",
    "        for j in range(n - i - 1):  # 한번돌고나면 맨처음 요소는 뛰어넘고 정렬 계속\n",
    "            if arr[j] > arr[j + 1]:\n",
    "                arr[j], arr[j + 1] = arr[j + 1], arr[j] #파이썬에서 temp를 만들지 않고 swqp 가능한 방법\n",
    "\n",
    "    return arr            \n",
    "\n",
    "def do_sort(arr):   # sort() 사용\n",
    "    arr.sort()\n",
    "    return arr\n",
    "\n",
    "def measure_time(func, arr):    # 시간측정 함수\n",
    "    start_time = time.time()    # 시작시간 저장\n",
    "    result = func(arr) # 함수 실행 \n",
    "    end_time = time.time()  # 함수 종료시간 저장\n",
    "\n",
    "    return (end_time - start_time, result)\n",
    "\n",
    "arr = list(range(10000))"
   ]
  },
  {
   "cell_type": "markdown",
   "id": "26bee5a9",
   "metadata": {},
   "source": [
    "##### 버블소트 시간측정"
   ]
  },
  {
   "cell_type": "code",
   "execution_count": 80,
   "id": "491bc72a",
   "metadata": {},
   "outputs": [],
   "source": [
    "(bubble_time, bubble_result) = measure_time(bubble_sort, arr)"
   ]
  },
  {
   "cell_type": "code",
   "execution_count": 81,
   "id": "823f5fe0",
   "metadata": {},
   "outputs": [
    {
     "data": {
      "text/plain": [
       "'버블소트 실행 시간 : 1.4502906799'"
      ]
     },
     "execution_count": 81,
     "metadata": {},
     "output_type": "execute_result"
    }
   ],
   "source": [
    "f'버블소트 실행 시간 : {bubble_time:.10f}'"
   ]
  },
  {
   "cell_type": "markdown",
   "id": "48e9b2b5",
   "metadata": {},
   "source": [
    "- 1 ~ 9999 까지 정렬된 상태에서 버블소트 실행 1.6초 정도 소요\n",
    "- 내림차순으로 역정렬된 상태에서 버블소트 실행 3.65초 정도 소요"
   ]
  },
  {
   "cell_type": "markdown",
   "id": "ee3ce142",
   "metadata": {},
   "source": [
    "##### 내장 소트 시간 측정"
   ]
  },
  {
   "cell_type": "code",
   "execution_count": 82,
   "id": "9413504f",
   "metadata": {},
   "outputs": [],
   "source": [
    "arr = list(range(10000))\n",
    "arr.sort(reverse=True)"
   ]
  },
  {
   "cell_type": "code",
   "execution_count": 83,
   "id": "3886540d",
   "metadata": {},
   "outputs": [],
   "source": [
    "sort_time, sort_result = measure_time(do_sort, arr)"
   ]
  },
  {
   "cell_type": "code",
   "execution_count": 84,
   "id": "bd46a0cb",
   "metadata": {},
   "outputs": [
    {
     "data": {
      "text/plain": [
       "'내장소트 실행 시간 : 0.0000000000'"
      ]
     },
     "execution_count": 84,
     "metadata": {},
     "output_type": "execute_result"
    }
   ],
   "source": [
    "f'내장소트 실행 시간 : {sort_time:.10f}'"
   ]
  },
  {
   "cell_type": "markdown",
   "id": "fea67fe9",
   "metadata": {},
   "source": [
    "### 모의 테스트\n",
    "\n",
    "- 공부할 때 사용하는 방법 VS Code. 실제 코테 환경에서는 불가능. 프로그래머스에서 바로 구현(디버깅 불가, 코드어시스턴스 사용불가)"
   ]
  },
  {
   "cell_type": "markdown",
   "id": "5b919715",
   "metadata": {},
   "source": [
    "#### 두 개 뽑아서 더하기\n",
    "- https://school.programmers.co.kr/learn/courses/30/lessons/68644"
   ]
  },
  {
   "cell_type": "code",
   "execution_count": 90,
   "id": "19bf2620",
   "metadata": {},
   "outputs": [],
   "source": [
    "data = [5,0,2,7]"
   ]
  },
  {
   "cell_type": "code",
   "execution_count": null,
   "id": "3090e17e",
   "metadata": {},
   "outputs": [],
   "source": [
    "def solution(numbers):\n",
    "    answer = []     # 빈 배열이 기생성\n",
    "    # 두 수를 선택해서 모든 경우의 수를 반복문으로 구함\n",
    "    for i in range(len(numbers)):\n",
    "        for j in range(i+1, len(numbers)):\n",
    "            # i인덱스와 j인덱스의 값을 더해서 answer에 저장\n",
    "            answer.append(numbers[i] + numbers[j])\n",
    "\n",
    "    temp = set(answer)        \n",
    "\n",
    "\n",
    "    return temp"
   ]
  },
  {
   "cell_type": "code",
   "execution_count": 92,
   "id": "e16496f1",
   "metadata": {},
   "outputs": [
    {
     "data": {
      "text/plain": [
       "{2, 5, 7, 9, 12}"
      ]
     },
     "execution_count": 92,
     "metadata": {},
     "output_type": "execute_result"
    }
   ],
   "source": [
    "solution(data)"
   ]
  },
  {
   "cell_type": "markdown",
   "id": "64791998",
   "metadata": {},
   "source": [
    "#### 방문 길이\n",
    "- https://school.programmers.co.kr/learn/courses/30/lessons/49994"
   ]
  },
  {
   "cell_type": "code",
   "execution_count": null,
   "id": "5247a96a",
   "metadata": {},
   "outputs": [],
   "source": [
    "# ULURRDLLU\n",
    "# LULLLLLLU"
   ]
  },
  {
   "cell_type": "code",
   "execution_count": null,
   "id": "a212c12e",
   "metadata": {},
   "outputs": [],
   "source": [
    "# 좌표가 맵을 벗어나지 않았는지 확인\n",
    "def is_okay_in_map(nx, ny):\n",
    "    return 0 <= nx < 11 and 0 <= ny < 11 # 0~10 사이의 값이 아니면 False\n",
    "\n",
    "# dir : U, D, L, R\n",
    "# 좌표이동 함수\n",
    "def move_position(dir,x,y):\n",
    "    if dir.upper() == 'U': # UP\n",
    "        nx, ny = x, y + 1 \n",
    "    elif dir.upper() == 'D': # DOWN\n",
    "        nx, ny = x, y - 1\n",
    "    elif dir.upper() == 'L': # DOWN\n",
    "        nx, ny = x - 1, y\n",
    "    elif dir.upper() == 'R': # DOWN\n",
    "        nx, ny = x + 1, y\n",
    "\n",
    "    return nx, ny          \n",
    "\n",
    "def solution(dirs):\n",
    "    x,y = 5,5 # 시작위치 : 5,5\n",
    "    answer = set()  # 중복좌표를 제거\n",
    "\n",
    "    for dir in dirs:\n",
    "        nx, ny = move_position(dir, x,y)    # nx, ny 바뀔 좌표\n",
    "        if is_okay_in_map(nx, ny): # 좌표값이 맵 안에 있으면 \n",
    "            answer.add((x,y, nx,ny)) # x,y에서 nx,ny로 이동한 것과\n",
    "            answer.add((nx,ny,x,y)) # nx, ny에서 x,y로 이동한 것은 같다.\n",
    "            x,y = nx, ny # 변경된 좌표로 업데이트\n",
    "        else:\n",
    "            continue    \n",
    "\n",
    "    return len(answer)\n",
    "\n"
   ]
  },
  {
   "cell_type": "code",
   "execution_count": 103,
   "id": "38e6a33e",
   "metadata": {},
   "outputs": [
    {
     "name": "stdout",
     "output_type": "stream",
     "text": [
      "4 5\n",
      "5 6\n",
      "4 5\n",
      "4 5\n",
      "4 5\n",
      "4 5\n",
      "4 5\n",
      "4 5\n",
      "5 6\n"
     ]
    }
   ],
   "source": [
    "solution('LULLLLLLU')"
   ]
  },
  {
   "cell_type": "code",
   "execution_count": null,
   "id": "130bac8b",
   "metadata": {},
   "outputs": [],
   "source": []
  }
 ],
 "metadata": {
  "kernelspec": {
   "display_name": "3.11.9",
   "language": "python",
   "name": "python3"
  },
  "language_info": {
   "codemirror_mode": {
    "name": "ipython",
    "version": 3
   },
   "file_extension": ".py",
   "mimetype": "text/x-python",
   "name": "python",
   "nbconvert_exporter": "python",
   "pygments_lexer": "ipython3",
   "version": "3.11.9"
  }
 },
 "nbformat": 4,
 "nbformat_minor": 5
}
