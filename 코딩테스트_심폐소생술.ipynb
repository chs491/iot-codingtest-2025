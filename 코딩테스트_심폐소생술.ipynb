{
 "cells": [
  {
   "cell_type": "markdown",
   "id": "041d1bdc",
   "metadata": {},
   "source": [
    "심폐소생술은 다음과 같은 순서를 통해 실시합니다.\n",
    "\n",
    "심정지 및 무호흡 확인 [check]\n",
    "도움 및 119 신고 요청 [call]\n",
    "가슴압박 30회 시행 [pressure]\n",
    "인공호흡 2회 시행 [respiration]\n",
    "가슴압박, 인공호흡 반복 [repeat]\n",
    "주어진 solution 함수는 심폐소생술을 하는 방법의 순서가 담긴 문자열들이 무작위 순서로 담긴 리스트 cpr이 주어질 때 각각의 방법이 몇 번째 단계인지 순서대로 담아 return하는 함수입니다. solution 함수가 올바르게 작동하도록 빈칸을 채워 solution 함수를 완성해 주세요.\n",
    "\n",
    "제한사항\n",
    "cpr은 다음 문자열들이 한 번씩 포함되어 있습니다.\n",
    "\"check\", \"call\", \"pressure\", \"respiration\", \"repeat\"\n",
    "입출력 예\n",
    "cpr\tresult\n",
    "[\"call\", \"respiration\", \"repeat\", \"check\", \"pressure\"]\t[2, 4, 5, 1, 3]\n",
    "[\"respiration\", \"repeat\", \"check\", \"pressure\", \"call\"]\t[4, 5, 1, 3, 2]\n",
    "입출력 예 설명\n",
    "입출력 예 #1\n",
    "\n",
    "\"call\", \"respiration\", \"repeat\", \"check\", \"pressure\"은 각각 2, 4, 5, 1, 3 번째 순서이므로 [2, 4, 5, 1, 3]을 리턴합니다.\n",
    "입출력 예 #2\n",
    "\n",
    "\"respiration\", \"repeat\", \"check\", \"pressure\", \"call\"은 각각 4, 5, 1, 3, 2 번째 순서이므로 [4, 5, 1, 3, 2]를 리턴합니다.\n",
    "cpp를 응시하는 경우 리스트는 배열과 동일한 의미이니 풀이에 참고해주세요.\n",
    "ex) 번호가 담긴 정수 리스트 numbers가 주어집니다. => 번호가 담긴 정수 배열 numbers가 주어집니다.\n",
    "java를 응시하는 경우 리스트는 배열, 함수는 메소드와 동일한 의미이니 풀이에 참고해주세요.\n",
    "ex) solution 함수가 올바르게 작동하도록 한 줄을 수정해 주세요. => solution 메소드가 올바르게 작동하도록 한 줄을 수정해 주세요."
   ]
  },
  {
   "cell_type": "code",
   "execution_count": null,
   "id": "7b1ebb50",
   "metadata": {},
   "outputs": [],
   "source": [
    "#include <string>\n",
    "#include <vector>\n",
    "\n",
    "using namespace std;\n",
    "\n",
    "vector<int> solution(vector<string> cpr) {\n",
    "    vector<int> answer = {0, 0, 0, 0, 0};\n",
    "    vector<string> basic_order = {\"check\", \"call\", \"pressure\", \"respiration\", \"repeat\"};\n",
    "\n",
    "    for(int i=0; i<answer.size(); i++){\n",
    "        for(int j=0; j<basic_order.size(); j++){\n",
    "            if(cpr[i] == basic_order[j]){\n",
    "                answer[i] = j+1;\n",
    "                break;\n",
    "            }\n",
    "        }\n",
    "    }\n",
    "\n",
    "    return answer;\n",
    "}\n"
   ]
  }
 ],
 "metadata": {
  "language_info": {
   "name": "python"
  }
 },
 "nbformat": 4,
 "nbformat_minor": 5
}
